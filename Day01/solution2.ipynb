{
 "cells": [
  {
   "cell_type": "markdown",
   "id": "5a3206bd",
   "metadata": {},
   "source": [
    "# Advent of Code - Day 01 - Challenge 2\n",
    "Extra credit from Papa Elf if you can find the pair of three numbers where their sum is 2020.  Their product is the solution for challenge 2 part 2."
   ]
  },
  {
   "cell_type": "code",
   "execution_count": 1,
   "id": "5c1db2a6",
   "metadata": {},
   "outputs": [],
   "source": [
    "import pandas as pd\n",
    "\n",
    "from pandas import DataFrame"
   ]
  },
  {
   "cell_type": "code",
   "execution_count": 4,
   "id": "02c87290",
   "metadata": {},
   "outputs": [],
   "source": [
    "# load data\n",
    "input_path = 'input.txt'\n",
    "\n",
    "with open(input_path) as f:\n",
    "    lines = f.readlines()\n",
    "f.close()\n",
    "\n",
    "lines = [int(line.replace(\"\\n\",\"\")) for line in lines]\n",
    "data = [(x, y, z, x+y+z, x*y*z) for x in lines for y in lines for z in lines]"
   ]
  },
  {
   "cell_type": "code",
   "execution_count": 6,
   "id": "cf08e433",
   "metadata": {},
   "outputs": [],
   "source": [
    "df = DataFrame(data, columns=[\"x\", \"y\", \"z\", \"sum\", \"product\"])"
   ]
  },
  {
   "cell_type": "code",
   "execution_count": 9,
   "id": "deee89a1",
   "metadata": {},
   "outputs": [
    {
     "name": "stdout",
     "output_type": "stream",
     "text": [
      "Answer: 9199664\n"
     ]
    }
   ],
   "source": [
    "answer = df[df['sum'] == 2020].iloc[0,4]\n",
    "print(f\"Answer: {answer}\")"
   ]
  }
 ],
 "metadata": {
  "kernelspec": {
   "display_name": "Python 3",
   "language": "python",
   "name": "python3"
  },
  "language_info": {
   "codemirror_mode": {
    "name": "ipython",
    "version": 3
   },
   "file_extension": ".py",
   "mimetype": "text/x-python",
   "name": "python",
   "nbconvert_exporter": "python",
   "pygments_lexer": "ipython3",
   "version": "3.9.2"
  }
 },
 "nbformat": 4,
 "nbformat_minor": 5
}
