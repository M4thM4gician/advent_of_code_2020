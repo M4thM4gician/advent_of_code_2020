{
 "cells": [
  {
   "cell_type": "markdown",
   "id": "6dfad4f2",
   "metadata": {},
   "source": [
    "# Advent of Code - Day 01 - Challenge 2\n",
    "Extra credit from Papa Elf if you can find the pair of three numbers where their sum is 2020.  Their product is the solution for challenge 2 part 2."
   ]
  },
  {
   "cell_type": "code",
   "execution_count": 1,
   "id": "0a4b69c3",
   "metadata": {},
   "outputs": [],
   "source": [
    "from pandas import DataFrame"
   ]
  },
  {
   "cell_type": "code",
   "execution_count": null,
   "id": "1548dd70",
   "metadata": {},
   "outputs": [],
   "source": [
    "# load data\n",
    "input_path = 'input.txt'\n",
    "\n",
    "with open(input_path) as f:\n",
    "    lines = f.readlines()\n",
    "f.close()"
   ]
  },
  {
   "cell_type": "code",
   "execution_count": 4,
   "id": "1c033cfe",
   "metadata": {},
   "outputs": [],
   "source": [
    "# replace new line characters and convert from string to integer\n",
    "lines = [int(line.replace(\"\\n\",\"\")) for line in lines]\n",
    "\n",
    "# use list comprehension to fill out the combination of numbers from the input along with their sums and products\n",
    "data = [(x, y, z, x+y+z, x*y*z) for x in lines for y in lines for z in lines]\n",
    "\n",
    "# convert the list of combinations to a pandas dataframe for easy sorting/filtering\n",
    "df = DataFrame(data, columns=[\"x\", \"y\", \"z\", \"sum\", \"product\"])\n",
    "\n",
    "# filter results and take the first row, 5th column (multiple rows returned for each repeated combination of x, y and z)\n",
    "answer = df[df['sum'] == 2020].iloc[0,4]\n",
    "print(f\"Answer: {answer}\")"
   ]
  }
 ],
 "metadata": {
  "kernelspec": {
   "display_name": "Python 3",
   "language": "python",
   "name": "python3"
  },
  "language_info": {
   "codemirror_mode": {
    "name": "ipython",
    "version": 3
   },
   "file_extension": ".py",
   "mimetype": "text/x-python",
   "name": "python",
   "nbconvert_exporter": "python",
   "pygments_lexer": "ipython3",
   "version": "3.9.2"
  }
 },
 "nbformat": 4,
 "nbformat_minor": 5
}
