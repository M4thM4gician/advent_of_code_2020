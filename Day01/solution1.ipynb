{
 "cells": [
  {
   "cell_type": "markdown",
   "id": "68c0dc11",
   "metadata": {},
   "source": [
    "# Advent Of Code - Day 01\n",
    "Find the pair of numbers from the input list where the sum of those numbers is 2020.  The product of these two numbers will be your solution for part 1 of the daily challenge."
   ]
  },
  {
   "cell_type": "code",
   "execution_count": 1,
   "id": "12b92955",
   "metadata": {},
   "outputs": [],
   "source": [
    "import pandas as pd"
   ]
  },
  {
   "cell_type": "code",
   "execution_count": 2,
   "id": "3851693e",
   "metadata": {},
   "outputs": [],
   "source": [
    "# load data\n",
    "input_path = 'input1.txt'\n",
    "\n",
    "with open(input_path) as f:\n",
    "    lines = f.readlines()\n",
    "f.close()"
   ]
  },
  {
   "cell_type": "code",
   "execution_count": 3,
   "id": "73b4f9a0",
   "metadata": {},
   "outputs": [],
   "source": [
    "lines = [int(line.replace(\"\\n\",\"\")) for line in lines]"
   ]
  },
  {
   "cell_type": "code",
   "execution_count": 4,
   "id": "03834440",
   "metadata": {},
   "outputs": [],
   "source": [
    "data = [(x, y, x+y, x*y) for x in lines for y in lines]"
   ]
  },
  {
   "cell_type": "code",
   "execution_count": 5,
   "id": "e1d708b1",
   "metadata": {},
   "outputs": [],
   "source": [
    "df = pd.DataFrame(data, columns=[\"x\", \"y\", \"sum\", \"product\"])"
   ]
  },
  {
   "cell_type": "code",
   "execution_count": 6,
   "id": "d782c6ea",
   "metadata": {},
   "outputs": [
    {
     "name": "stdout",
     "output_type": "stream",
     "text": [
      "Answer: 842016\n"
     ]
    }
   ],
   "source": [
    "answer = df[df['sum'] == 2020].iloc[0,3]\n",
    "print(f\"Answer: {answer}\")"
   ]
  }
 ],
 "metadata": {
  "kernelspec": {
   "display_name": "Python 3",
   "language": "python",
   "name": "python3"
  },
  "language_info": {
   "codemirror_mode": {
    "name": "ipython",
    "version": 3
   },
   "file_extension": ".py",
   "mimetype": "text/x-python",
   "name": "python",
   "nbconvert_exporter": "python",
   "pygments_lexer": "ipython3",
   "version": "3.9.2"
  }
 },
 "nbformat": 4,
 "nbformat_minor": 5
}
