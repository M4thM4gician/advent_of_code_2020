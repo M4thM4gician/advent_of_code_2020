{
 "cells": [
  {
   "cell_type": "markdown",
   "id": "68c0dc11",
   "metadata": {},
   "source": [
    "# Advent Of Code - Day 01\n",
    "Find the pair of numbers from the input list where the sum of those numbers is 2020.  The product of these two numbers will be your solution for part 1 of the daily challenge."
   ]
  },
  {
   "cell_type": "code",
   "execution_count": 1,
   "id": "12b92955",
   "metadata": {},
   "outputs": [],
   "source": [
    "import pandas as pd"
   ]
  },
  {
   "cell_type": "code",
   "execution_count": 2,
   "id": "3851693e",
   "metadata": {},
   "outputs": [],
   "source": [
    "# load data\n",
    "input_path = 'input.txt'\n",
    "\n",
    "with open(input_path) as f:\n",
    "    lines = f.readlines()\n",
    "f.close()"
   ]
  },
  {
   "cell_type": "code",
   "execution_count": 3,
   "id": "d9980871",
   "metadata": {},
   "outputs": [
    {
     "name": "stdout",
     "output_type": "stream",
     "text": [
      "Answer: 842016\n"
     ]
    }
   ],
   "source": [
    "# replace new line characters and convert from string to integer\n",
    "lines = [int(line.replace(\"\\n\",\"\")) for line in lines]\n",
    "\n",
    "# use list comprehension to fill out the combination of numbers from the input along with their sums and products\n",
    "data = [(x, y, x+y, x*y) for x in lines for y in lines]\n",
    "\n",
    "# convert the list of combinations to a pandas dataframe for easy sorting/filtering\n",
    "df = pd.DataFrame(data, columns=[\"x\", \"y\", \"sum\", \"product\"])\n",
    "\n",
    "# filter results and take the first row, 4th column (multiple rows returned for (x, y) and (y, x))\n",
    "answer = df[df['sum'] == 2020].iloc[0,3]\n",
    "print(f\"Answer: {answer}\")"
   ]
  }
 ],
 "metadata": {
  "kernelspec": {
   "display_name": "Python 3",
   "language": "python",
   "name": "python3"
  },
  "language_info": {
   "codemirror_mode": {
    "name": "ipython",
    "version": 3
   },
   "file_extension": ".py",
   "mimetype": "text/x-python",
   "name": "python",
   "nbconvert_exporter": "python",
   "pygments_lexer": "ipython3",
   "version": "3.9.2"
  }
 },
 "nbformat": 4,
 "nbformat_minor": 5
}
